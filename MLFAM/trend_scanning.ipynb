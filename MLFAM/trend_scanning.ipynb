{
 "cells": [
  {
   "cell_type": "code",
   "execution_count": null,
   "metadata": {},
   "outputs": [],
   "source": [
    "import numpy as np\n",
    "import pandas as pd\n",
    "import seaborn as sns\n",
    "import plotly.graph_objects as go\n",
    "import plotly.express as px"
   ]
  },
  {
   "cell_type": "markdown",
   "metadata": {},
   "source": [
    "## Trend-Scanning Method"
   ]
  },
  {
   "cell_type": "code",
   "execution_count": null,
   "metadata": {},
   "outputs": [],
   "source": [
    "import statsmodels.api as sm1\n",
    "\n",
    "def tValLinR(close):\n",
    "    # tValue from a linear trend\n",
    "    x = np.ones((close.shape[0],2))\n",
    "    x[:,1] = np.arange(close.shape[0])\n",
    "    ols = sm1.OLS(close,x).fit()\n",
    "    return ols.tvalues[1]"
   ]
  },
  {
   "cell_type": "code",
   "execution_count": null,
   "metadata": {},
   "outputs": [],
   "source": [
    "def getBinsFromTrend(molecule,close,span):\n",
    "    '''\n",
    "    Derive labels from the sign of t-value of linear trend\n",
    "    Output includes:\n",
    "    - t1: End time for the identified trend\n",
    "    - tVal: t-value associated with the estimated trend coefficient\n",
    "    - bin: Sign of the trend\n",
    "    '''\n",
    "\n",
    "    out = pd.DataFrame(index=molecule, columns=['t1','tVal','bin'])\n",
    "    hrzns = range(*span)\n",
    "    for dt0 in molecule:\n",
    "        df0 = pd.Series(dtype='float64')\n",
    "        iloc0 = close.index.get_loc(dt0)\n",
    "        if iloc0 + max(hrzns) > close.shape[0]: continue\n",
    "        for hrzn in hrzns:\n",
    "            dt1 = close.index[iloc0+hrzn-1]\n",
    "            df1 = close.loc[dt0:dt1]\n",
    "            df0.loc[dt1]=tValLinR(df1.values)\n",
    "\n",
    "        dt1 = df0.replace([-np.inf,np.inf,np.nan],0).abs().idxmax()\n",
    "        out.loc[dt0,['t1','tVal','bin']]=df0.index[-1],df0[dt1], np.sign(df0[dt1]) # prevent leakage\n",
    "\n",
    "    out['t1'] = pd.to_datetime(out['t1'])\n",
    "    out['bin'] = pd.to_numeric(out['bin'], downcast='signed')\n",
    "\n",
    "    return out.dropna(subset=['bin'])"
   ]
  },
  {
   "cell_type": "code",
   "execution_count": null,
   "metadata": {},
   "outputs": [],
   "source": [
    "df0 = pd.Series(np.random.normal(0,.1,100)).cumsum()\n",
    "df0 += np.sin(np.linspace(0,10,df0.shape[0]))\n",
    "df1 = getBinsFromTrend(df0.index,df0,[3,10,1])\n",
    "df1['tVal'] = df1['tVal'].astype(float)"
   ]
  },
  {
   "cell_type": "code",
   "execution_count": null,
   "metadata": {},
   "outputs": [],
   "source": [
    "fig = px.scatter(x=df1.index, y=df0.loc[df1.index].values, color=df1['bin'].values.astype(str))\n",
    "fig.update_traces(marker=dict(size=10, line=dict(width=1, color='DarkSlateGrey')), selector=dict(mode='markers'))\n",
    "fig.show()"
   ]
  },
  {
   "cell_type": "markdown",
   "metadata": {},
   "source": [
    "The binary labels, although appropriate for classification problems, omit information about the strength of the trend."
   ]
  },
  {
   "cell_type": "code",
   "execution_count": null,
   "metadata": {},
   "outputs": [],
   "source": [
    "fig = px.scatter(x=df1.index, y=df0.loc[df1.index].values, color=df1['tVal'].values, color_continuous_scale='Viridis')\n",
    "fig.update_traces(marker=dict(size=10, line=dict(width=1, color='DarkSlateGrey')), selector=dict(mode='markers'))\n",
    "fig.show()"
   ]
  },
  {
   "cell_type": "markdown",
   "metadata": {},
   "source": [
    "The information from t-Values could be used in regression models, or as sample weights in classification problems to indicate the strength of the trend."
   ]
  },
  {
   "cell_type": "code",
   "execution_count": null,
   "metadata": {},
   "outputs": [],
   "source": []
  }
 ],
 "metadata": {
  "kernelspec": {
   "display_name": "Python 3",
   "language": "python",
   "name": "python3"
  },
  "language_info": {
   "codemirror_mode": {
    "name": "ipython",
    "version": 3
   },
   "file_extension": ".py",
   "mimetype": "text/x-python",
   "name": "python",
   "nbconvert_exporter": "python",
   "pygments_lexer": "ipython3",
   "version": "3.9.12"
  },
  "orig_nbformat": 4
 },
 "nbformat": 4,
 "nbformat_minor": 2
}
