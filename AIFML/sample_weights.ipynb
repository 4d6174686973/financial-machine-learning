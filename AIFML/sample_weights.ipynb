{
 "cells": [
  {
   "cell_type": "code",
   "execution_count": null,
   "metadata": {},
   "outputs": [],
   "source": [
    "import pandas as pd\n",
    "import numpy as np"
   ]
  },
  {
   "cell_type": "markdown",
   "metadata": {},
   "source": [
    "# Sample Weights"
   ]
  },
  {
   "cell_type": "code",
   "execution_count": null,
   "metadata": {},
   "outputs": [],
   "source": [
    "def mpNumCoEvents(closeIdx,t1,molecule):\n",
    "    '''\n",
    "    Compute the number of concurrent events per bar.\n",
    "    +molecule[0] is the date of the first event on which the weight will be computed\n",
    "    +molecule[-1] is the date of the last event on which the weight will be computed\n",
    "    Any event that starts before t1[molecule].max() impacts the count.\n",
    "    '''\n",
    "    #1) find events that span the period [molecule[0],molecule[-1]]\n",
    "    t1 = t1.fillna(closeIdx[-1]) # unclosed events still must impact other weights\n",
    "    t1 = t1[t1>=molecule[0]] # events that end at or after molecule[0]\n",
    "    t1 = t1.loc[:t1[molecule].max()] # events that start at or before t1[molecule].max()\n",
    "    #2) count events spanning a bar\n",
    "    iloc = closeIdx.searchsorted(np.array([t1.index[0],t1.max()]))\n",
    "    count = pd.Series(0, index=closeIdx[iloc[0]:iloc[1]+1], dtype='float64')\n",
    "    for tIn, tOut in t1.items(): count.loc[tIn:tOut] += 1.\n",
    "    return count.loc[molecule[0]:t1[molecule].max()]"
   ]
  },
  {
   "cell_type": "code",
   "execution_count": null,
   "metadata": {},
   "outputs": [],
   "source": [
    "def mpSampleTW(t1,numCoEvents,molecule):\n",
    "    # Derive average uniqueness over the event's lifespan\n",
    "    wght=pd.Series(index=molecule, dtype='float64')\n",
    "    for tIn,tOut in t1.loc[wght.index].items():\n",
    "        wght.loc[tIn]=(1./numCoEvents.loc[tIn:tOut]).mean()\n",
    "    return wght\n"
   ]
  },
  {
   "cell_type": "markdown",
   "metadata": {},
   "source": [
    "## Example Code for Average Uniqueness"
   ]
  },
  {
   "cell_type": "code",
   "execution_count": null,
   "metadata": {},
   "outputs": [],
   "source": [
    "import plotly.graph_objects as go\n",
    "import plotly.express as px"
   ]
  },
  {
   "cell_type": "code",
   "execution_count": null,
   "metadata": {},
   "outputs": [],
   "source": [
    "def generate_test_data(obs, seed=1):\n",
    "    np.random.seed(seed)\n",
    "    returns = pd.Series(np.random.normal(0.002, 0.1, obs), index=pd.date_range('2015-01-02',periods=obs))\n",
    "    close = returns.add(1).cumprod()\n",
    "    close.loc[pd.to_datetime('2015-01-01')] = 1\n",
    "    close = close.sort_index()\n",
    "    return close"
   ]
  },
  {
   "cell_type": "code",
   "execution_count": null,
   "metadata": {},
   "outputs": [],
   "source": [
    "def getDailyVol(close,span0=100):\n",
    "    # daily vol, reindexed to close\n",
    "    df0 = close.index.searchsorted(close.index-pd.Timedelta(days=1))\n",
    "    df0 = df0[df0>0]\n",
    "    df0 = pd.Series(close.index[df0-1], index=close.index[close.shape[0]-df0.shape[0]:])\n",
    "    df0 = close.loc[df0.index]/close.loc[df0.values].values-1 # daily returns\n",
    "    df0 = df0.ewm(span=span0).std()\n",
    "    return df0"
   ]
  },
  {
   "cell_type": "code",
   "execution_count": null,
   "metadata": {},
   "outputs": [],
   "source": [
    "def applyPtSlOnT1(close, events, ptSl, molecule):\n",
    "    # apply stop loss/profit taking, if it takes place before t1 (end of event)\n",
    "    events_ = events.loc[molecule]\n",
    "    out = events_[['t1']].copy(deep=True)\n",
    "\n",
    "    if ptSl[0] > 0:pt = ptSl[0] * events_['trgt']\n",
    "    else: pt = pd.Series(index=events.index, dtype=float) # NaNs\n",
    "\n",
    "    if ptSl[1] > 0:sl = -ptSl[1] * events_['trgt']\n",
    "    else: sl = pd.Series(index=events.index, dtype=float) # NaNs\n",
    "\n",
    "    for loc, t1 in events_['t1'].fillna(close.index[-1]).items():\n",
    "        df0 = close[loc:t1] # path prices\n",
    "        \n",
    "        df0 = (df0/close[loc]-1) * events_.at[loc,'side'] # path returns, need to be ommited for interest rates\n",
    "\n",
    "        out.loc[loc,'sl'] = df0[df0<sl[loc]].index.min() # earliest stop loss.\n",
    "        out.loc[loc,'pt'] = df0[df0>pt[loc]].index.min() # earliest profit taking.\n",
    "\n",
    "    return out"
   ]
  },
  {
   "cell_type": "code",
   "execution_count": null,
   "metadata": {},
   "outputs": [],
   "source": [
    "from mpcode import mpPandasObj\n",
    "\n",
    "def getEvents(close: pd.Series, tEvents: pd.Series, ptSl, trgt: pd.Series, minRet: float, numThreads: int, t1=False):\n",
    "    \n",
    "    #1) get target\n",
    "    trgt = trgt.loc[tEvents]\n",
    "    trgt = trgt[trgt>minRet] # minRet\n",
    "\n",
    "    #2) get t1 (max holding period)\n",
    "    if t1 is False: t1 = pd.Series(pd.NaT, index=tEvents)\n",
    "\n",
    "    #3) form events object, apply stop loss on t1\n",
    "    side_ = pd.Series(1.,index=trgt.index) # arbitrarily set side to 1, since it is not needed to learn the side\n",
    "\n",
    "    events = pd.concat({'t1':t1,'trgt':trgt,'side':side_}, axis=1).dropna(subset=['trgt'])\n",
    "\n",
    "    # df0 = mpPandasObj(func=applyPtSlOnT1, pdObj=('molecule',events.index), numThreads=numThreads, close=close, events=events, ptSl=[ptSl,ptSl]) # [ptSl, ptSl] does not work\n",
    "    df0 = mpPandasObj(func=applyPtSlOnT1, pdObj=('molecule',events.index), numThreads=numThreads, close=close, events=events, ptSl=ptSl)\n",
    "\n",
    "    # get timestamps of earliest hit of either stop loss or profit taking \n",
    "    events['t1'] = df0.dropna(how='all').min(axis=1) # pd.min ignores nan\n",
    "    events = events.drop('side',axis=1)\n",
    "    return events"
   ]
  },
  {
   "cell_type": "code",
   "execution_count": null,
   "metadata": {},
   "outputs": [],
   "source": [
    "close = generate_test_data(1000)\n",
    "trgt = getDailyVol(close)\n",
    "events = getEvents(close, trgt.index, ptSl=[1,1], trgt=trgt, minRet=0.00, numThreads=16, t1=False)"
   ]
  },
  {
   "cell_type": "code",
   "execution_count": null,
   "metadata": {},
   "outputs": [],
   "source": [
    "from mpcode import mpPandasObj\n",
    "\n",
    "numCoEvents = mpPandasObj(mpNumCoEvents, ('molecule', events.index), numThreads=12, closeIdx=close.index, t1=events['t1'])\n",
    "numCoEvents = numCoEvents.loc[~numCoEvents.index.duplicated(keep='last')]\n",
    "numCoEvents = numCoEvents.reindex(close.index).fillna(0)\n",
    "out = pd.DataFrame()\n",
    "out['tW'] = mpPandasObj(mpSampleTW, ('molecule',events.index), numThreads=12, t1=events['t1'], numCoEvents=numCoEvents)"
   ]
  },
  {
   "cell_type": "code",
   "execution_count": null,
   "metadata": {},
   "outputs": [],
   "source": [
    "out.head()"
   ]
  },
  {
   "cell_type": "code",
   "execution_count": null,
   "metadata": {},
   "outputs": [],
   "source": [
    "# Average uniqueness used for maxSamples in Classifiers\n",
    "avgU = out['tW'].mean()\n",
    "avgU"
   ]
  },
  {
   "cell_type": "code",
   "execution_count": null,
   "metadata": {},
   "outputs": [],
   "source": [
    "from plotly.subplots import make_subplots\n",
    "\n",
    "fig = go.Figure()\n",
    "fig = make_subplots(specs=[[{\"secondary_y\": True}]])\n",
    "fig.add_trace(go.Scatter(x=close.index, y=close, mode='lines', name='close'), secondary_y=True)\n",
    "fig.add_trace(go.Bar(x=out.index, y=out['tW'], name='avg label uniqueness'), secondary_y=False)\n",
    "fig.update_layout(title='Average Label Uniqueness', xaxis_title='Date', yaxis_title='Price')\n",
    "fig.show()\n"
   ]
  },
  {
   "cell_type": "code",
   "execution_count": null,
   "metadata": {},
   "outputs": [],
   "source": [
    "# plot histogram of avg label uniqueness\n",
    "fig = px.histogram(out, x=\"tW\", nbins=100, title='Histogram of Uniqueness Values')\n",
    "fig.update_layout(xaxis_title='Avg Label Uniqueness', yaxis_title='Count', width=800, height=500)\n",
    "fig.show()\n"
   ]
  },
  {
   "cell_type": "markdown",
   "metadata": {},
   "source": [
    "## Remarks on the method\n",
    "\n",
    "Computing the average uniqueness associated with label $i$, $\\overline u_i$ requires information that is not available until a future time, `events['t1']`. This is not a problem, because $\\{\\overline u_i\\}_{i=1,…,I }$ are used on the training set in combination with label information, and not on the testing set. These $\\{\\overline u_i\\}_{i=1,…,I }$ are not used for forecasting the label, hence there is no information leakage. This procedure allows us to assign a uniqueness score between 0 and 1 for each observed feature, in terms of non-overlapping outcomes."
   ]
  },
  {
   "cell_type": "code",
   "execution_count": null,
   "metadata": {},
   "outputs": [],
   "source": []
  }
 ],
 "metadata": {
  "kernelspec": {
   "display_name": "Python 3",
   "language": "python",
   "name": "python3"
  },
  "language_info": {
   "codemirror_mode": {
    "name": "ipython",
    "version": 3
   },
   "file_extension": ".py",
   "mimetype": "text/x-python",
   "name": "python",
   "nbconvert_exporter": "python",
   "pygments_lexer": "ipython3",
   "version": "3.9.12"
  },
  "orig_nbformat": 4
 },
 "nbformat": 4,
 "nbformat_minor": 2
}
