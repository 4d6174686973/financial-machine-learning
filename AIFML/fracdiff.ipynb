{
 "cells": [
  {
   "cell_type": "code",
   "execution_count": null,
   "metadata": {},
   "outputs": [],
   "source": [
    "import numpy as np\n",
    "import pandas as pd\n",
    "import plotly.graph_objects as go\n",
    "import plotly.express as px"
   ]
  },
  {
   "cell_type": "markdown",
   "metadata": {},
   "source": [
    "# Fractional differentiation"
   ]
  },
  {
   "cell_type": "code",
   "execution_count": null,
   "metadata": {},
   "outputs": [],
   "source": [
    "def generate_test_data(obs, seed=1):\n",
    "    np.random.seed(seed)\n",
    "    returns = pd.DataFrame(np.random.normal(0.002, 0.1, obs), index=pd.date_range('2015-01-02',periods=obs))\n",
    "    close = returns.add(1).cumprod()\n",
    "    close.loc[pd.to_datetime('2015-01-01')] = 1\n",
    "    close = close.sort_index()\n",
    "    close.rename(columns={0:'Close'}, inplace=True)\n",
    "    return close"
   ]
  },
  {
   "cell_type": "markdown",
   "metadata": {},
   "source": [
    "## Standard Fracdiff (Expanding Window)"
   ]
  },
  {
   "cell_type": "code",
   "execution_count": null,
   "metadata": {},
   "outputs": [],
   "source": [
    "def getWeights(d,size):\n",
    "    # thres>0 drops insignificant weights\n",
    "    w=[1.]\n",
    "    for k in range(1,size):\n",
    "        w_=-w[-1]/k*(d-k+1)\n",
    "        w.append(w_)\n",
    "    w=np.array(w[::-1]).reshape(-1,1)\n",
    "    return w\n",
    "\n",
    "import matplotlib.pyplot as mpl\n",
    "\n",
    "def plotWeights(dRange,nPlots,size):\n",
    "    w=pd.DataFrame()\n",
    "    for d in np.linspace(dRange[0],dRange[1],nPlots):\n",
    "        w_=getWeights(d,size=size)\n",
    "        w_=pd.DataFrame(w_,index=range(w_.shape[0])[::-1],columns=[d])\n",
    "        w=w.join(w_,how='outer')\n",
    "    ax=w.plot()\n",
    "    ax.legend(loc='upper left');mpl.show()\n",
    "    return\n",
    "\n",
    "if __name__=='__main__':\n",
    "    plotWeights(dRange=[0,1],nPlots=11,size=6)\n",
    "    plotWeights(dRange=[1,2],nPlots=11,size=6)"
   ]
  },
  {
   "cell_type": "code",
   "execution_count": null,
   "metadata": {},
   "outputs": [],
   "source": [
    "def fracDiff(series,d,thres=.01):\n",
    "    '''\n",
    "    Increasing width window, with treatment of NaNs\n",
    "    Note 1: For thres=1, nothing is skipped.\n",
    "    Note 2: d can be any positive fractional, not necessarily bounded [0,1].\n",
    "    '''\n",
    "    #1) Compute weights for the longest series\n",
    "    w = getWeights(d,series.shape[0])\n",
    "\n",
    "    #2) Determine initial calcs to be skipped based on weight-loss threshold\n",
    "    w_ = np.cumsum(abs(w))\n",
    "    w_ /= w_[-1]\n",
    "    skip = w_[w_>thres].shape[0]\n",
    "\n",
    "    #3) Apply weights to values\n",
    "    df = {}\n",
    "    for name in series.columns:\n",
    "        seriesF,df_ = series[[name]].ffill().dropna(),pd.Series(dtype=float)\n",
    "        for iloc in range(skip,seriesF.shape[0]):\n",
    "            loc = seriesF.index[iloc]\n",
    "            if not np.isfinite(series.loc[loc,name]):continue # exclude NAs\n",
    "            df_[loc] = np.dot(w[-(iloc+1):,:].T,seriesF.loc[:loc])[0,0]\n",
    "        df[name] = df_.copy(deep=True)\n",
    "    df = pd.concat(df,axis=1)\n",
    "    return df"
   ]
  },
  {
   "cell_type": "markdown",
   "metadata": {},
   "source": [
    "Apply FracDiff on random price series"
   ]
  },
  {
   "cell_type": "code",
   "execution_count": null,
   "metadata": {},
   "outputs": [],
   "source": [
    "# generate random price series\n",
    "close = generate_test_data(1000)\n",
    "\n",
    "# apply fracdiff algo\n",
    "fdiff = pd.DataFrame(index=close.index)\n",
    "\n",
    "for d in np.linspace(0.1, 1,10):\n",
    "    fdiff[d] = fracDiff(close,d,thres=0.01)\n",
    "\n",
    "# plot\n",
    "fig = go.Figure()\n",
    "fig.add_trace(go.Scatter(x=close.index, y=close.iloc[:,0], name='Close'))\n",
    "\n",
    "for col in fdiff.columns:\n",
    "    fig.add_trace(go.Scatter(x=fdiff.index, y=fdiff[col], name=round(col, 2)))\n",
    "\n",
    "fig.update_layout(title='Random Price Series', xaxis_title='Date', yaxis_title='Price')\n",
    "fig.show()\n"
   ]
  },
  {
   "cell_type": "markdown",
   "metadata": {},
   "source": [
    "## Fixed-width window Fracdiff"
   ]
  },
  {
   "cell_type": "code",
   "execution_count": null,
   "metadata": {},
   "outputs": [],
   "source": [
    "def getWeights_FFD(d,thres):\n",
    "    w,k=[1.],1\n",
    "    while True:\n",
    "        w_=-w[-1]/k*(d-k+1)\n",
    "        if abs(w_)<thres:break\n",
    "        w.append(w_);k+=1\n",
    "    return np.array(w[::-1]).reshape(-1,1)"
   ]
  },
  {
   "cell_type": "code",
   "execution_count": null,
   "metadata": {},
   "outputs": [],
   "source": [
    "def fracDiff_FFD(series,d,thres=1e-5):\n",
    "    # Constant width window (new solution)\n",
    "    w = getWeights_FFD(d,thres)\n",
    "    width = len(w)-1\n",
    "    df = {}\n",
    "    for name in series.columns:\n",
    "        seriesF,df_=series[[name]].ffill().dropna(),pd.Series(dtype=float)\n",
    "        for iloc1 in range(width,seriesF.shape[0]):\n",
    "            loc0,loc1=seriesF.index[iloc1-width],seriesF.index[iloc1]\n",
    "            if not np.isfinite(series.loc[loc1,name]):continue # exclude NAs\n",
    "            df_[loc1]=np.dot(w.T,seriesF.loc[loc0:loc1])[0,0]\n",
    "        df[name]=df_.copy(deep=True)\n",
    "    df=pd.concat(df,axis=1)\n",
    "    return df"
   ]
  },
  {
   "cell_type": "code",
   "execution_count": null,
   "metadata": {},
   "outputs": [],
   "source": [
    "# generate random price series\n",
    "close = generate_test_data(1000)\n",
    "\n",
    "# apply fracdiff algo\n",
    "fdiff = pd.DataFrame(index=close.index)\n",
    "\n",
    "for d in np.linspace(0, 1,11):\n",
    "    fdiff[d] = fracDiff_FFD(close,d,thres=0.01)\n",
    "\n",
    "# plot\n",
    "fig = go.Figure()\n",
    "# fig.add_trace(go.Scatter(x=close.index, y=close.iloc[:,0], name='Close'))\n",
    "\n",
    "for col in fdiff.columns:\n",
    "    fig.add_trace(go.Scatter(x=fdiff.index, y=fdiff[col], name=round(col, 2)))\n",
    "\n",
    "fig.update_layout(title='Random Price Series and its Differentiation', xaxis_title='Date', yaxis_title='Price', legend_title='fractional difference')\n",
    "fig.show()"
   ]
  },
  {
   "cell_type": "markdown",
   "metadata": {},
   "source": [
    "## Stationarity with maximum memory preservation\n"
   ]
  },
  {
   "cell_type": "code",
   "execution_count": null,
   "metadata": {},
   "outputs": [],
   "source": [
    "def plotMinFFD(series):\n",
    "    from statsmodels.tsa.stattools import adfuller\n",
    "\n",
    "    # path,instName='./','ES1_Index_Method12'\n",
    "\n",
    "    out = pd.DataFrame(columns=['adfStat','pVal','lags','nObs','95% conf','corr'])\n",
    "\n",
    "    # df0=pd.read_csv(path+instName+'.csv',index_col=0,parse_dates=True)\n",
    "    df1=series\n",
    "    df1.columns=['Close']\n",
    "\n",
    "    for d in np.linspace(0,1,11):\n",
    "\n",
    "        # df1=np.log(df0[['Close']]).resample('1D').last() # downcast to daily obs\n",
    "        \n",
    "        df2=fracDiff_FFD(df1,d,thres=.01)\n",
    "\n",
    "        corr=np.corrcoef(df1.loc[df2.index,'Close'],df2['Close'])[0,1]\n",
    "\n",
    "        df2=adfuller(df2['Close'],maxlag=1,regression='c',autolag=None)\n",
    "\n",
    "        out.loc[d]=list(df2[:4])+[df2[4]['5%']]+[corr] # with critical value\n",
    "\n",
    "    # out.to_csv(path+instName+'_testMinFFD.csv')\n",
    "    # out[['adfStat','corr']].plot(secondary_y='adfStat')\n",
    "    # mpl.axhline(out['95% conf'].mean(),linewidth=1,color='r',linestyle='dotted')\n",
    "    # mpl.savefig(path+instName+'_testMinFFD.png')\n",
    "\n",
    "    return out"
   ]
  },
  {
   "cell_type": "code",
   "execution_count": null,
   "metadata": {},
   "outputs": [],
   "source": [
    "adfstats = plotMinFFD(close)"
   ]
  },
  {
   "cell_type": "code",
   "execution_count": null,
   "metadata": {},
   "outputs": [],
   "source": [
    "adfstats"
   ]
  },
  {
   "cell_type": "code",
   "execution_count": null,
   "metadata": {},
   "outputs": [],
   "source": [
    "from plotly.subplots import make_subplots\n",
    "\n",
    "fig = go.Figure()\n",
    "fig = make_subplots(specs=[[{\"secondary_y\": True}]])\n",
    "\n",
    "fig.add_trace(go.Scatter(x=adfstats.index, y=adfstats['corr'], name='Correlation'), secondary_y=True)\n",
    "fig.add_trace(go.Scatter(x=adfstats.index, y=adfstats['adfStat'], name='ADF Stat'), secondary_y=False)\n",
    "\n",
    "# add axhline at 95%\n",
    "fig.add_shape(type=\"line\", x0=0, y0=adfstats['95% conf'].mean(), x1=1, y1=adfstats['95% conf'].mean(), line=dict(color=\"Black\",width=1,dash=\"dot\"), secondary_y=False)\n",
    "\n",
    "fig.update_layout(title='ADF Stat and Correlation', xaxis_title='d', yaxis_title='Value', width=800, height=600)\n",
    "fig.show()\n"
   ]
  },
  {
   "cell_type": "code",
   "execution_count": null,
   "metadata": {},
   "outputs": [],
   "source": []
  }
 ],
 "metadata": {
  "kernelspec": {
   "display_name": "Python 3",
   "language": "python",
   "name": "python3"
  },
  "language_info": {
   "codemirror_mode": {
    "name": "ipython",
    "version": 3
   },
   "file_extension": ".py",
   "mimetype": "text/x-python",
   "name": "python",
   "nbconvert_exporter": "python",
   "pygments_lexer": "ipython3",
   "version": "3.9.12"
  },
  "orig_nbformat": 4
 },
 "nbformat": 4,
 "nbformat_minor": 2
}
