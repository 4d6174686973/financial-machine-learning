{
 "cells": [
  {
   "cell_type": "code",
   "execution_count": null,
   "metadata": {},
   "outputs": [],
   "source": [
    "import pandas as pd\n",
    "import numpy as np\n",
    "import plotly.express as px\n",
    "import plotly.graph_objects as go"
   ]
  },
  {
   "cell_type": "markdown",
   "metadata": {},
   "source": [
    "# Labeling Methods"
   ]
  },
  {
   "cell_type": "markdown",
   "metadata": {},
   "source": [
    "Source: Advances in Financial Machine Learning, Marcos Lopez de Prado"
   ]
  },
  {
   "cell_type": "markdown",
   "metadata": {},
   "source": [
    "## Daily Vol"
   ]
  },
  {
   "cell_type": "markdown",
   "metadata": {},
   "source": [
    "can be used to set profit taking and stop-loss limits"
   ]
  },
  {
   "cell_type": "code",
   "execution_count": null,
   "metadata": {},
   "outputs": [],
   "source": [
    "def getDailyVol(close,span0=100):\n",
    "    # daily vol, reindexed to close\n",
    "    df0 = close.index.searchsorted(close.index-pd.Timedelta(days=1))\n",
    "    df0 = df0[df0>0]\n",
    "    df0 = pd.Series(close.index[df0-1], index=close.index[close.shape[0]-df0.shape[0]:])\n",
    "    df0 = close.loc[df0.index]/close.loc[df0.values].values-1 # daily returns\n",
    "    df0 = df0.ewm(span=span0).std()\n",
    "    return df0"
   ]
  },
  {
   "cell_type": "markdown",
   "metadata": {},
   "source": [
    "## Triple Barrier"
   ]
  },
  {
   "cell_type": "markdown",
   "metadata": {},
   "source": [
    "- Set two horizontal barriers and one vertical barrier\n",
    "    - The two horizontal barriers are defined by profit-taking and stop-loss limits, which are a dynamic function of estimated volatility (whether realized or implied).\n",
    "    - The third barrier is defined in terms of number of bars elapsed since the position was taken (an expiration limit).\n",
    "- If the upper barrier is touched first, we label the observation as a 1.\n",
    "- If the lower barrier is touched first, we label the observation as a −1.\n",
    "- If the vertical barrier is touched first, we have two choices: the sign of the return, or a 0. I personally prefer the former as a matter of realizing a profit or loss within limits, but you should explore whether a 0 works better in your particular problems."
   ]
  },
  {
   "cell_type": "code",
   "execution_count": null,
   "metadata": {},
   "outputs": [],
   "source": [
    "def applyPtSlOnT1(close, events, ptSl, molecule):\n",
    "    # apply stop loss/profit taking, if it takes place before t1 (end of event)\n",
    "    events_ = events.loc[molecule]\n",
    "    out = events_[['t1']].copy(deep=True)\n",
    "\n",
    "    if ptSl[0] > 0:pt = ptSl[0] * events_['trgt']\n",
    "    else: pt = pd.Series(index=events.index, dtype=float) # NaNs\n",
    "\n",
    "    if ptSl[1] > 0:sl = -ptSl[1] * events_['trgt']\n",
    "    else: sl = pd.Series(index=events.index, dtype=float) # NaNs\n",
    "\n",
    "    for loc, t1 in events_['t1'].fillna(close.index[-1]).items():\n",
    "        df0 = close[loc:t1] # path prices\n",
    "        \n",
    "        df0 = (df0/close[loc]-1) * events_.at[loc,'side'] # path returns, need to be ommited for interest rates\n",
    "\n",
    "        out.loc[loc,'sl'] = df0[df0<sl[loc]].index.min() # earliest stop loss.\n",
    "        out.loc[loc,'pt'] = df0[df0>pt[loc]].index.min() # earliest profit taking.\n",
    "\n",
    "    return out"
   ]
  },
  {
   "cell_type": "code",
   "execution_count": null,
   "metadata": {},
   "outputs": [],
   "source": [
    "# define vertical (time) barrier\n",
    "def vertBar(close, tEvents, numDays):\n",
    "    t1=close.index.searchsorted(tEvents+pd.Timedelta(days=numDays))\n",
    "    t1=t1[t1<close.shape[0]]\n",
    "    t1=pd.Series(close.index[t1],index=tEvents[:t1.shape[0]]) # NaNs at end\n",
    "    return t1"
   ]
  },
  {
   "cell_type": "code",
   "execution_count": null,
   "metadata": {},
   "outputs": [],
   "source": [
    "from mpcode import mpPandasObj\n",
    "\n",
    "def getEvents(close: pd.Series, tEvents: pd.Series, ptSl, trgt: pd.Series, minRet: float, numThreads: int, t1=False):\n",
    "    \n",
    "    #1) get target\n",
    "    trgt = trgt.loc[tEvents]\n",
    "    trgt = trgt[trgt>minRet] # minRet\n",
    "\n",
    "    #2) get t1 (max holding period)\n",
    "    if t1 is False: t1 = pd.Series(pd.NaT, index=tEvents)\n",
    "\n",
    "    #3) form events object, apply stop loss on t1\n",
    "    side_ = pd.Series(1.,index=trgt.index) # arbitrarily set side to 1, since it is not needed to learn the side\n",
    "\n",
    "    events = pd.concat({'t1':t1,'trgt':trgt,'side':side_}, axis=1).dropna(subset=['trgt'])\n",
    "    # df0 = mpPandasObj(func=applyPtSlOnT1, pdObj=('molecule',events.index), numThreads=numThreads, close=close, events=events, ptSl=[ptSl,ptSl]) # [ptSl, ptSl] does not work\n",
    "    df0 = mpPandasObj(func=applyPtSlOnT1, pdObj=('molecule',events.index), numThreads=numThreads, close=close, events=events, ptSl=ptSl)\n",
    "\n",
    "    # get timestamps of earliest hit of either stop loss or profit taking \n",
    "    events['t1'] = df0.dropna(how='all').min(axis=1) # pd.min ignores nan\n",
    "    events = events.drop('side',axis=1)\n",
    "    return events"
   ]
  },
  {
   "cell_type": "code",
   "execution_count": null,
   "metadata": {},
   "outputs": [],
   "source": [
    "def generate_test_data(obs, seed=1):\n",
    "    np.random.seed(seed)\n",
    "    returns = pd.Series(np.random.normal(0.002, 0.1, obs), index=pd.date_range('2015-01-02',periods=obs))\n",
    "    close = returns.add(1).cumprod()\n",
    "    close.loc[pd.to_datetime('2015-01-01')] = 1\n",
    "    close = close.sort_index()\n",
    "    return close"
   ]
  },
  {
   "cell_type": "code",
   "execution_count": null,
   "metadata": {},
   "outputs": [],
   "source": [
    "close = generate_test_data(1000)\n",
    "# px.line(close)"
   ]
  },
  {
   "cell_type": "code",
   "execution_count": null,
   "metadata": {},
   "outputs": [],
   "source": [
    "trgt = getDailyVol(close)\n",
    "trgt"
   ]
  },
  {
   "cell_type": "code",
   "execution_count": null,
   "metadata": {},
   "outputs": [],
   "source": [
    "e = getEvents(close, trgt.index, ptSl=[1,1], trgt=trgt, minRet=0.00, numThreads=16, t1=False)"
   ]
  },
  {
   "cell_type": "code",
   "execution_count": null,
   "metadata": {},
   "outputs": [],
   "source": [
    "e.head()"
   ]
  },
  {
   "cell_type": "code",
   "execution_count": null,
   "metadata": {},
   "outputs": [],
   "source": [
    "# barriers.head()"
   ]
  },
  {
   "cell_type": "code",
   "execution_count": null,
   "metadata": {},
   "outputs": [],
   "source": [
    "date = '2015-12-20'\n",
    "takeprofit = close.loc[date] * (1 + e['trgt'].loc[date])\n",
    "stoploss = close.loc[date] * (1 - e['trgt'].loc[date])\n",
    "\n",
    "fig = go.Figure()\n",
    "\n",
    "# close price\n",
    "fig.add_trace(go.Scatter(x=close.index, y=close, name='close', mode='lines', line=dict(color='black', width=1)))\n",
    "fig.add_trace(go.Scatter(x=close.index, y=close, name='close', mode='markers', marker=dict(color='black', size=4)))\n",
    "\n",
    "# barriers\n",
    "fig.add_shape(type='line', x0=date, y0=takeprofit, x1=e['t1'].loc[date], y1=takeprofit, line=dict(color='red', width=2))\n",
    "fig.add_shape(type='line', x0=date, y0=stoploss, x1=e['t1'].loc[date], y1=stoploss, line=dict(color='red', width=2))\n",
    "fig.add_shape(type='line', x0=date, y0=close.loc[date], x1=e['t1'].loc[date], y1=close.loc[date], line=dict(color='red', width=1, dash='dot'))\n",
    "fig.add_shape(type='line', x0=e['t1'].loc[date], y0=stoploss, x1=e['t1'].loc[date], y1=takeprofit, line=dict(color='red', width=1, dash='dot'))\n",
    "fig.add_shape(type='line', x0=date, y0=takeprofit, x1=date, y1=stoploss, line=dict(color='red', width=2))\n",
    "\n",
    "fig.update_layout(\n",
    "    title='Triple Barrier Labeling at one example date',\n",
    "    yaxis_title='Price',\n",
    "    xaxis_title='Date',\n",
    "    showlegend=False\n",
    ")\n",
    "\n",
    "fig.show()"
   ]
  },
  {
   "cell_type": "markdown",
   "metadata": {},
   "source": [
    "Now we need to derive the labeling"
   ]
  },
  {
   "cell_type": "code",
   "execution_count": null,
   "metadata": {},
   "outputs": [],
   "source": [
    "def getBins(events,close):\n",
    "    #1) prices aligned with events\n",
    "    events_=events.dropna(subset=['t1'])\n",
    "    px=events_.index.union(events_['t1'].values).drop_duplicates()\n",
    "    px=close.reindex(px,method='bfill')\n",
    "    #2) create out object\n",
    "    out=pd.DataFrame(index=events_.index)\n",
    "    out['ret']=px.loc[events_['t1'].values].values/px.loc[events_.index]-1\n",
    "    out['bin']=np.sign(out['ret'])\n",
    "    return out"
   ]
  },
  {
   "cell_type": "code",
   "execution_count": null,
   "metadata": {},
   "outputs": [],
   "source": [
    "bins = getBins(e, close)\n",
    "bins.head()"
   ]
  },
  {
   "cell_type": "code",
   "execution_count": null,
   "metadata": {},
   "outputs": [],
   "source": [
    "\n",
    "fig = go.Figure()\n",
    "fig.add_trace(go.Scatter(x=close.index, y=close, name='close', mode='lines', line=dict(color='black', width=1)))\n",
    "fig.add_trace(go.Scatter(x=bins['bin'].index[bins['bin'] == 1], y=close.iloc[3:-4].loc[bins['bin'] == 1], name='bin = 1', mode='markers', line=dict(color='green', width=2)))\n",
    "fig.add_trace(go.Scatter(x=bins['bin'].index[bins['bin'] == -1], y=close.iloc[3:-4].loc[bins['bin'] == -1], name='bin = 1', mode='markers', line=dict(color='red', width=2)))\n",
    "fig.update_layout(\n",
    "    title='Bins',\n",
    "    yaxis_title='Return',\n",
    "    xaxis_rangeslider_visible=True,\n",
    "    xaxis_title='Date',\n",
    "    showlegend=False\n",
    ")\n",
    "fig.show()"
   ]
  },
  {
   "cell_type": "markdown",
   "metadata": {},
   "source": [
    "# Meta Labeling (not tested)"
   ]
  },
  {
   "cell_type": "markdown",
   "metadata": {},
   "source": [
    "Expand getEvents function for meta labeling"
   ]
  },
  {
   "cell_type": "code",
   "execution_count": null,
   "metadata": {},
   "outputs": [],
   "source": [
    "def getEvents(close,tEvents,ptSl,trgt,minRet,numThreads,t1=False,side=None):\n",
    "    \n",
    "    #1) get target\n",
    "    trgt = trgt.loc[tEvents]\n",
    "    trgt = trgt[trgt>minRet] # minRet\n",
    "\n",
    "    #2) get t1 (max holding period)\n",
    "    if t1 is False:t1 = pd.Series(pd.NaT,index=tEvents)\n",
    "\n",
    "    #3) form events object, apply stop loss on t1\n",
    "    if side is None: side_,ptSl_ = pd.Series(1., index=trgt.index), [ptSl[0],ptSl[0]]\n",
    "    else: side_, ptSl_ = side.loc[trgt.index], ptSl[:2]\n",
    "    events = pd.concat({'t1':t1,'trgt':trgt,'side':side_}, axis=1).dropna(subset=['trgt'])\n",
    "    df0 = mpPandasObj(func=applyPtSlOnT1,pdObj=('molecule',events.index), numThreads=numThreads,close=inst['Close'],events=events,ptSl=ptSl_)\n",
    "    events['t1']=df0.dropna(how='all').min(axis=1) # pd.min ignores nan\n",
    "    if side is None:events=events.drop('side',axis=1)\n",
    "\n",
    "    return events"
   ]
  },
  {
   "cell_type": "markdown",
   "metadata": {},
   "source": [
    "Also expand get Bins"
   ]
  },
  {
   "cell_type": "code",
   "execution_count": null,
   "metadata": {},
   "outputs": [],
   "source": [
    "def getBins(events,close):\n",
    "    '''\n",
    "    Compute event's outcome (including side information, if provided).\n",
    "    events is a DataFrame where:\n",
    "    —events.index is event's starttime\n",
    "    —events['t1'] is event's endtime\n",
    "    —events['trgt'] is event's target\n",
    "    —events['side'] (optional) implies the algo's position side\n",
    "    Case 1: ('side' not in events): bin in (-1,1) <—label by price action\n",
    "    Case 2: ('side' in events): bin in (0,1) <—label by pnl (meta-labeling)\n",
    "    '''\n",
    "\n",
    "    #1) prices aligned with events\n",
    "    events_=events.dropna(subset=['t1'])\n",
    "    px=events_.index.union(events_['t1'].values).drop_duplicates()\n",
    "    px=close.reindex(px,method='bfill')\n",
    "\n",
    "    #2) create out object\n",
    "    out=pd.DataFrame(index=events_.index)\n",
    "    out['ret']=px.loc[events_['t1'].values].values/px.loc[events_.index]-1\n",
    "    if 'side' in events_:out['ret']*=events_['side'] # meta-labeling\n",
    "    out['bin']=np.sign(out['ret'])\n",
    "    if 'side' in events_:out.loc[out['ret']<=0,'bin']=0 # meta-labeling\n",
    "    return out"
   ]
  },
  {
   "cell_type": "markdown",
   "metadata": {},
   "source": [
    "Meta Labeling deals with the tradeoff between true positives and false positives.\n",
    "\n",
    "Visualize with Receiver Operating Characteristic (ROC) curve!"
   ]
  },
  {
   "cell_type": "code",
   "execution_count": null,
   "metadata": {},
   "outputs": [],
   "source": []
  }
 ],
 "metadata": {
  "kernelspec": {
   "display_name": "Python 3",
   "language": "python",
   "name": "python3"
  },
  "language_info": {
   "codemirror_mode": {
    "name": "ipython",
    "version": 3
   },
   "file_extension": ".py",
   "mimetype": "text/x-python",
   "name": "python",
   "nbconvert_exporter": "python",
   "pygments_lexer": "ipython3",
   "version": "3.9.12"
  },
  "orig_nbformat": 4
 },
 "nbformat": 4,
 "nbformat_minor": 2
}
