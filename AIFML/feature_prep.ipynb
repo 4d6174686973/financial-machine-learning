{
 "cells": [
  {
   "cell_type": "code",
   "execution_count": null,
   "metadata": {},
   "outputs": [],
   "source": [
    "import pandas as pd\n",
    "import numpy as np\n",
    "import plotly.express as px\n",
    "import plotly.graph_objects as go"
   ]
  },
  {
   "cell_type": "code",
   "execution_count": null,
   "metadata": {},
   "outputs": [],
   "source": [
    "def generate_test_data(obs, seed=1):\n",
    "    np.random.seed(seed)\n",
    "    returns = pd.DataFrame(np.random.normal(0.002, 0.1, obs), index=pd.date_range('2015-01-02',periods=obs))\n",
    "    close = returns.add(1).cumprod()\n",
    "    close.loc[pd.to_datetime('2015-01-01')] = 1\n",
    "    close = close.sort_index()\n",
    "    close.rename(columns={0:'Close'}, inplace=True)\n",
    "    return close"
   ]
  },
  {
   "cell_type": "markdown",
   "metadata": {},
   "source": [
    "# Structural Break Tests"
   ]
  },
  {
   "cell_type": "markdown",
   "metadata": {},
   "source": [
    "## Supremum Augmented Dickey-Fuller (SADF) (Explosiveness Test)"
   ]
  },
  {
   "cell_type": "markdown",
   "metadata": {},
   "source": [
    "fitting the regression specification $\\Delta y_t = \\alpha + \\beta y_{t-1} + \\sum^L_{l=1} \\gamma _l \\Delta y_{t-l} + \\epsilon _t$\n",
    "\n",
    "where we test for\n",
    "\n",
    "$H_0: \\beta \\leq 0 $\n",
    "\n",
    "$ H_1: \\beta \\geq 0$\n",
    "\n",
    "Supremum Augmented Dickey-Fuller (SADF) fits regression at each end point t with backwards expanding start points, then computes\n",
    "\n",
    "$$\\text{SADF} =  \\sup_{t_0 \\in [1, t-\\tau]}{ADF_{t_0,t}} = \\sup_{t_0 \\in [1, t-\\tau]} \\biggl\\{ \\frac{\\^\\beta_{t_0,t}}{\\^\\sigma_{\\beta_{t_0,t}}} \\biggl\\}$$"
   ]
  },
  {
   "cell_type": "code",
   "execution_count": null,
   "metadata": {},
   "outputs": [],
   "source": [
    "def getBetas(y,x):\n",
    "    xy=np.dot(x.T,y)\n",
    "    xx=np.dot(x.T,x)\n",
    "    # print(np.linalg.det(xx))\n",
    "    xxinv=np.linalg.inv(xx)\n",
    "    bMean=np.dot(xxinv,xy)\n",
    "    err=y-np.dot(x,bMean)\n",
    "    bVar=np.dot(err.T,err)/(x.shape[0]-x.shape[1])*xxinv\n",
    "    return bMean,bVar"
   ]
  },
  {
   "cell_type": "code",
   "execution_count": null,
   "metadata": {},
   "outputs": [],
   "source": [
    "def lagDF(df0,lags):\n",
    "    df1=pd.DataFrame()\n",
    "    if isinstance(lags,int):lags=range(lags+1)\n",
    "    else:lags=[int(lag) for lag in lags]\n",
    "    for lag in lags:\n",
    "        df_=df0.shift(lag).copy(deep=True)\n",
    "        df_.columns=[str(i)+'_'+str(lag) for i in df_.columns]\n",
    "        df1=df1.join(df_,how='outer')\n",
    "    return df1"
   ]
  },
  {
   "cell_type": "code",
   "execution_count": null,
   "metadata": {},
   "outputs": [],
   "source": [
    "def getYX(series,constant,lags):\n",
    "    series_=series.diff().dropna()\n",
    "    x=lagDF(series_,lags).dropna()\n",
    "    x.iloc[:,0]=series.values[-x.shape[0]-1:-1,0] # lagged level\n",
    "    y=series_.iloc[-x.shape[0]:].values\n",
    "    if constant!='nc':\n",
    "        x=np.append(x,np.ones((x.shape[0],1)),axis=1)\n",
    "        if constant[:2]=='ct':\n",
    "            trend=np.arange(x.shape[0]).reshape(-1,1)\n",
    "            x=np.append(x,trend,axis=1)\n",
    "        if constant=='ctt':\n",
    "            x=np.append(x,trend**2,axis=1)\n",
    "    return y,x"
   ]
  },
  {
   "cell_type": "code",
   "execution_count": null,
   "metadata": {},
   "outputs": [],
   "source": [
    "# inner loop\n",
    "\n",
    "def get_bsadf(logP, minSL, constant, lags):\n",
    "\n",
    "    y,x = getYX(logP,constant=constant,lags=lags)\n",
    "\n",
    "    startPoints, allADF = range(0,y.shape[0]+lags-minSL+1), []\n",
    "\n",
    "    # bsadf = None\n",
    "    bsadf = -np.inf\n",
    "    \n",
    "    for start in startPoints:\n",
    "        y_,x_ = y[start:], x[start:]\n",
    "        bMean_,bStd_ = getBetas(y_,x_)\n",
    "        bMean_,bStd_ = bMean_[0,0],bStd_[0,0]**.5\n",
    "        allADF.append(bMean_/bStd_)\n",
    "\n",
    "        if allADF[-1] > bsadf: bsadf = allADF[-1]\n",
    "\n",
    "    out = {'Time':logP.index[-1],'gsadf':bsadf}\n",
    "\n",
    "    return out"
   ]
  },
  {
   "cell_type": "code",
   "execution_count": null,
   "metadata": {},
   "outputs": [],
   "source": [
    "data = generate_test_data(1000)\n",
    "logP = np.log(data)\n",
    "\n",
    "logP.head() \n",
    "\n",
    "minSL,constant,lags = 10, 'nc', 3\n",
    "\n",
    "sadf = pd.DataFrame(columns=['Time','gsadf'])\n",
    "\n",
    "for t in logP.index:\n",
    "    out = get_bsadf(logP.loc[:t],minSL,constant,lags)\n",
    "    sadf.loc[t] = out"
   ]
  },
  {
   "cell_type": "code",
   "execution_count": null,
   "metadata": {},
   "outputs": [],
   "source": [
    "sadf.tail()"
   ]
  },
  {
   "cell_type": "code",
   "execution_count": null,
   "metadata": {},
   "outputs": [],
   "source": [
    "from plotly.subplots import make_subplots\n",
    "\n",
    "fig = go.Figure()\n",
    "fig = make_subplots(specs=[[{\"secondary_y\": True}]])\n",
    "\n",
    "fig.add_trace(go.Scatter(x=sadf['Time'], y=sadf['gsadf'], mode='lines', name='sadf'), secondary_y=True)\n",
    "fig.add_trace(go.Scatter(x=data.index, y=data.values.flatten(), mode='lines', name='close'))\n",
    "\n",
    "fig.update_layout(title='SADF and Close Price over Time', xaxis_title='Time')\n",
    "\n",
    "fig.show()"
   ]
  },
  {
   "cell_type": "markdown",
   "metadata": {},
   "source": [
    "## The symmetric CUSUM Filter (Event-Based Sampling)"
   ]
  },
  {
   "cell_type": "markdown",
   "metadata": {},
   "source": [
    "CUSUM tests: These test whether the cumulative forecasting errors significantly deviate from white noise\n",
    "\n",
    "The CUSUM Filter can be applied in the context of event-based sampling of bars.\n",
    "\n",
    "IID observations $\\{y_t\\}_{t=1,...,T}$\n",
    "\n",
    "Define cumulative sums $S_t = max\\{0, S_{t-1} + y_t - E_{t-1}[y_t]\\}$\n",
    "\n",
    "This zero floor means that we will skip some downward deviations that otherwise would make S t negative. The reason is, the filter is set up to identify a sequence of upside divergences from any reset level zero. In particular, the threshold is activated when:\n",
    "\n",
    "$S_t \\geq h \\Leftrightarrow \\exists \\tau \\in [1, t] \\text{ for } \\sum^t_{i=\\tau}(y_i - E_{i-1}[y_t]) \\geq h$\n",
    "\n",
    "This concept of run-ups can be extended to include run-downs, giving us a symmetric CUSUM filter:\n",
    "\n",
    "$S^+_t = \\text{max}\\{0, S^+_{t-1} + y_t - E_{t-1}[y_t]\\}, S^+_t = 0$\n",
    "\n",
    "$S^-_t = \\text{min}\\{0, S^-_{t-1} + y_t - E_{t-1}[y_t]\\}, S^-_t = 0$\n",
    "\n",
    "\n",
    "Variable ${S_t}$ could be based on any of the features, like structural break statistics, entropy, or market microstructure measurements. For example, we could declare an event whenever SADF (Supreme Augmented Dickey-Fuller) departs sufficiently from a previous reset level. Once we have obtained this subset of event-driven bars, we will let the ML algorithm determine whether the occurrence of such events constitutes actionable intelligence."
   ]
  },
  {
   "cell_type": "code",
   "execution_count": null,
   "metadata": {},
   "outputs": [],
   "source": [
    "def getTEvents(gRaw,h):\n",
    "    tEvents, sPos, sNeg = [], 0, 0\n",
    "    diff = gRaw.diff()\n",
    "    for i in diff.index[1:]:\n",
    "        sPos, sNeg = max(0, sPos+diff.loc[i]), min(0, sNeg+diff.loc[i])\n",
    "        if sNeg < -h:\n",
    "            sNeg = 0\n",
    "            tEvents.append(i)\n",
    "        elif sPos > h:\n",
    "            sPos=0\n",
    "            tEvents.append(i)\n",
    "    return pd.DatetimeIndex(tEvents)"
   ]
  },
  {
   "cell_type": "code",
   "execution_count": null,
   "metadata": {},
   "outputs": [],
   "source": [
    "\n",
    "tEvents = getTEvents(sadf['gsadf'], 1)"
   ]
  },
  {
   "cell_type": "code",
   "execution_count": null,
   "metadata": {},
   "outputs": [],
   "source": [
    "from plotly.subplots import make_subplots\n",
    "\n",
    "fig = go.Figure()\n",
    "fig = make_subplots(specs=[[{\"secondary_y\": True}]])\n",
    "\n",
    "# fig.add_trace(go.Scatter(x=data.index, y=data['Close'], name='Close'))\n",
    "\n",
    "fig.add_trace(go.Scatter(x=sadf['Time'], y=sadf['gsadf'], mode='lines', name='sadf'))\n",
    "\n",
    "fig.add_trace(go.Scatter(x=tEvents, y=sadf.loc[tEvents]['gsadf'], mode='markers', name='tEvents'))\n",
    "fig.add_trace(go.Scatter(x=tEvents, y=sadf.loc[tEvents]['gsadf'], name='tEvents Line'))\n",
    "\n",
    "fig.update_layout(title='CUSUM Filter on SADF', xaxis_title='Time')\n",
    "fig.show()"
   ]
  },
  {
   "cell_type": "code",
   "execution_count": null,
   "metadata": {},
   "outputs": [],
   "source": []
  }
 ],
 "metadata": {
  "kernelspec": {
   "display_name": "Python 3",
   "language": "python",
   "name": "python3"
  },
  "language_info": {
   "codemirror_mode": {
    "name": "ipython",
    "version": 3
   },
   "file_extension": ".py",
   "mimetype": "text/x-python",
   "name": "python",
   "nbconvert_exporter": "python",
   "pygments_lexer": "ipython3",
   "version": "3.9.12"
  },
  "orig_nbformat": 4
 },
 "nbformat": 4,
 "nbformat_minor": 2
}
